{
 "cells": [
  {
   "cell_type": "code",
   "execution_count": 2,
   "metadata": {
    "ExecuteTime": {
     "end_time": "2022-03-04T04:09:53.410026Z",
     "start_time": "2022-03-04T04:09:52.912861Z"
    }
   },
   "outputs": [],
   "source": [
    "import pandas as pd\n",
    "from pandas.io.json import json_normalize\n",
    "import numpy as np\n",
    "from bs4 import BeautifulSoup\n",
    "import requests\n",
    "import json\n",
    "import datetime as dt\n",
    "from dateutil.relativedelta import relativedelta\n",
    "import datetime as dt\n",
    "import time\n",
    "import warnings\n",
    "warnings.filterwarnings('ignore')"
   ]
  },
  {
   "cell_type": "code",
   "execution_count": 3,
   "metadata": {
    "ExecuteTime": {
     "end_time": "2022-03-04T04:09:53.906142Z",
     "start_time": "2022-03-04T04:09:53.900156Z"
    }
   },
   "outputs": [],
   "source": [
    "# 종관(ASOS) 지점 번호\n",
    "location = [\n",
    "    (105, '강릉'),\n",
    "    (101, '춘천'),\n",
    "    (115, '울릉도'),\n",
    "    (156, '광주'),\n",
    "    (143, '대구'),\n",
    "    (133, '대전'),\n",
    "    (159, '부산'),\n",
    "    (108, '서울'),\n",
    "    (102, '백령도'),\n",
    "    (146, '전주'),\n",
    "    (184, '제주'),\n",
    "    (131, '청주')\n",
    "]\n",
    "# location = [(143, '대구')]"
   ]
  },
  {
   "cell_type": "code",
   "execution_count": 4,
   "metadata": {
    "ExecuteTime": {
     "end_time": "2022-03-04T04:09:55.437741Z",
     "start_time": "2022-03-04T04:09:55.427767Z"
    }
   },
   "outputs": [],
   "source": [
    "df = pd.DataFrame()"
   ]
  },
  {
   "cell_type": "code",
   "execution_count": 5,
   "metadata": {
    "ExecuteTime": {
     "end_time": "2022-03-04T04:24:24.902291Z",
     "start_time": "2022-03-04T04:09:56.436585Z"
    },
    "scrolled": true
   },
   "outputs": [
    {
     "name": "stdout",
     "output_type": "stream",
     "text": [
      "강릉 19800101 to 19810101\n"
     ]
    }
   ],
   "source": [
    "url = 'http://apis.data.go.kr/1360000/AsosDalyInfoService/getWthrDataList'\n",
    "key_en = 'YNeSPpyEp3Ax1Z5oYs5ORHBiZ3Ou51OKW11WzUDMIAn4flasrrYupz8qCvTXVywwMEwHrLZ17ToFV0GVr5iTAg%3D%3D'\n",
    "key_de = 'YNeSPpyEp3Ax1Z5oYs5ORHBiZ3Ou51OKW11WzUDMIAn4flasrrYupz8qCvTXVywwMEwHrLZ17ToFV0GVr5iTAg=='\n",
    "start_date = dt.datetime(1980,1,1)\n",
    "while start_date < dt.datetime(2022,1,1):\n",
    "    \n",
    "    Startdt = start_date.strftime('%Y%m%d')\n",
    "    end_date = start_date + relativedelta(years=1)\n",
    "    Enddt = end_date.strftime('%Y%m%d')\n",
    "    start_date = end_date\n",
    "    for locnum, loc in location:\n",
    "        print(loc, Startdt,'to',Enddt)\n",
    "        params ={'serviceKey' : key_de, 'pageNo' : '1', 'numOfRows' : '999', 'dataType' : 'JSON', 'dataCd' : 'ASOS', 'dateCd' : 'DAY', 'startDt' : Startdt, 'endDt' : Enddt, 'stnIds' : locnum }\n",
    "        try:\n",
    "            res = requests.get(url, params=params)\n",
    "            time.sleep(0.1)\n",
    "            json_object = json.loads(res.text)\n",
    "        except json.JSONDecodeError:\n",
    "            start_date = end_date - relativedelta(years=1)\n",
    "            break\n",
    "        if json_object['response']['header']['resultCode'] == '00':\n",
    "            df = pd.concat([df,json_normalize(json_object['response']['body']['items']['item'])])\n",
    "        break\n",
    "    break\n",
    "        "
   ]
  },
  {
   "cell_type": "code",
   "execution_count": 5,
   "metadata": {
    "ExecuteTime": {
     "end_time": "2022-03-04T04:24:27.235272Z",
     "start_time": "2022-03-04T04:24:25.337517Z"
    }
   },
   "outputs": [],
   "source": [
    "df.drop_duplicates(inplace=True)"
   ]
  },
  {
   "cell_type": "code",
   "execution_count": 8,
   "metadata": {
    "ExecuteTime": {
     "end_time": "2022-03-04T04:24:29.176741Z",
     "start_time": "2022-03-04T04:24:27.642951Z"
    },
    "scrolled": true
   },
   "outputs": [
    {
     "data": {
      "text/plain": [
       "'<OpenAPI_ServiceResponse>\\n\\t<cmmMsgHeader>\\n\\t\\t<errMsg>SERVICE ERROR</errMsg>\\n\\t\\t<returnAuthMsg>HTTP_ERROR</returnAuthMsg>\\n\\t\\t<returnReasonCode>04</returnReasonCode>\\n\\t</cmmMsgHeader>\\n</OpenAPI_ServiceResponse>'"
      ]
     },
     "execution_count": 8,
     "metadata": {},
     "output_type": "execute_result"
    }
   ],
   "source": [
    "res.text"
   ]
  },
  {
   "cell_type": "code",
   "execution_count": 7,
   "metadata": {
    "ExecuteTime": {
     "end_time": "2022-03-04T04:24:34.958585Z",
     "start_time": "2022-03-04T04:24:29.612549Z"
    }
   },
   "outputs": [],
   "source": [
    "df.apply(lambda col: col.apply(lambda x: np.nan if x == '' else x)).to_csv('기상청ASOS관측.csv')"
   ]
  },
  {
   "cell_type": "code",
   "execution_count": 8,
   "metadata": {
    "ExecuteTime": {
     "end_time": "2022-03-04T06:38:19.903254Z",
     "start_time": "2022-03-04T06:38:18.475047Z"
    },
    "scrolled": true
   },
   "outputs": [
    {
     "data": {
      "text/html": [
       "<div>\n",
       "<style scoped>\n",
       "    .dataframe tbody tr th:only-of-type {\n",
       "        vertical-align: middle;\n",
       "    }\n",
       "\n",
       "    .dataframe tbody tr th {\n",
       "        vertical-align: top;\n",
       "    }\n",
       "\n",
       "    .dataframe thead th {\n",
       "        text-align: right;\n",
       "    }\n",
       "</style>\n",
       "<table border=\"1\" class=\"dataframe\">\n",
       "  <thead>\n",
       "    <tr style=\"text-align: right;\">\n",
       "      <th></th>\n",
       "      <th>stnId</th>\n",
       "      <th>stnNm</th>\n",
       "      <th>tm</th>\n",
       "      <th>avgTa</th>\n",
       "      <th>minTa</th>\n",
       "      <th>minTaHrmt</th>\n",
       "      <th>maxTa</th>\n",
       "      <th>maxTaHrmt</th>\n",
       "      <th>mi10MaxRn</th>\n",
       "      <th>mi10MaxRnHrmt</th>\n",
       "      <th>...</th>\n",
       "      <th>avgM05Te</th>\n",
       "      <th>avgM10Te</th>\n",
       "      <th>avgM15Te</th>\n",
       "      <th>avgM30Te</th>\n",
       "      <th>avgM50Te</th>\n",
       "      <th>sumLrgEv</th>\n",
       "      <th>sumSmlEv</th>\n",
       "      <th>n99Rn</th>\n",
       "      <th>iscs</th>\n",
       "      <th>sumFogDur</th>\n",
       "    </tr>\n",
       "  </thead>\n",
       "  <tbody>\n",
       "    <tr>\n",
       "      <th>0</th>\n",
       "      <td>105</td>\n",
       "      <td>강릉</td>\n",
       "      <td>1980-01-01</td>\n",
       "      <td>3.0</td>\n",
       "      <td>-0.4</td>\n",
       "      <td>714</td>\n",
       "      <td>7.0</td>\n",
       "      <td>1549.0</td>\n",
       "      <td>NaN</td>\n",
       "      <td>NaN</td>\n",
       "      <td>...</td>\n",
       "      <td>6.1</td>\n",
       "      <td>9.1</td>\n",
       "      <td>11.4</td>\n",
       "      <td>15.0</td>\n",
       "      <td>15.4</td>\n",
       "      <td>NaN</td>\n",
       "      <td>0.9</td>\n",
       "      <td>2.6</td>\n",
       "      <td>{비}2218-{비}{강도0}2400-</td>\n",
       "      <td>NaN</td>\n",
       "    </tr>\n",
       "    <tr>\n",
       "      <th>1</th>\n",
       "      <td>105</td>\n",
       "      <td>강릉</td>\n",
       "      <td>1980-01-02</td>\n",
       "      <td>6.0</td>\n",
       "      <td>3.5</td>\n",
       "      <td>207</td>\n",
       "      <td>8.4</td>\n",
       "      <td>1500.0</td>\n",
       "      <td>NaN</td>\n",
       "      <td>NaN</td>\n",
       "      <td>...</td>\n",
       "      <td>6.7</td>\n",
       "      <td>9.0</td>\n",
       "      <td>11.1</td>\n",
       "      <td>14.8</td>\n",
       "      <td>15.5</td>\n",
       "      <td>NaN</td>\n",
       "      <td>1.5</td>\n",
       "      <td>1.4</td>\n",
       "      <td>-{비}-{비}{강도0}0300-{비}{강도0}0600-{비}{강도0}0900-{비...</td>\n",
       "      <td>NaN</td>\n",
       "    </tr>\n",
       "    <tr>\n",
       "      <th>2</th>\n",
       "      <td>105</td>\n",
       "      <td>강릉</td>\n",
       "      <td>1980-01-03</td>\n",
       "      <td>7.5</td>\n",
       "      <td>4.1</td>\n",
       "      <td>1810</td>\n",
       "      <td>12.8</td>\n",
       "      <td>1330.0</td>\n",
       "      <td>NaN</td>\n",
       "      <td>NaN</td>\n",
       "      <td>...</td>\n",
       "      <td>6.8</td>\n",
       "      <td>9.0</td>\n",
       "      <td>11.0</td>\n",
       "      <td>14.8</td>\n",
       "      <td>15.3</td>\n",
       "      <td>NaN</td>\n",
       "      <td>2.2</td>\n",
       "      <td>NaN</td>\n",
       "      <td>NaN</td>\n",
       "      <td>NaN</td>\n",
       "    </tr>\n",
       "    <tr>\n",
       "      <th>3</th>\n",
       "      <td>105</td>\n",
       "      <td>강릉</td>\n",
       "      <td>1980-01-04</td>\n",
       "      <td>4.1</td>\n",
       "      <td>-0.8</td>\n",
       "      <td>2356</td>\n",
       "      <td>6.8</td>\n",
       "      <td>1206.0</td>\n",
       "      <td>NaN</td>\n",
       "      <td>NaN</td>\n",
       "      <td>...</td>\n",
       "      <td>7.0</td>\n",
       "      <td>9.1</td>\n",
       "      <td>11.0</td>\n",
       "      <td>14.7</td>\n",
       "      <td>15.5</td>\n",
       "      <td>NaN</td>\n",
       "      <td>1.8</td>\n",
       "      <td>1.5</td>\n",
       "      <td>{비}1406-{싸락눈}1437-{진눈깨비}1450-{진눈깨비}{강도0}1500-{...</td>\n",
       "      <td>NaN</td>\n",
       "    </tr>\n",
       "    <tr>\n",
       "      <th>4</th>\n",
       "      <td>105</td>\n",
       "      <td>강릉</td>\n",
       "      <td>1980-01-05</td>\n",
       "      <td>-0.8</td>\n",
       "      <td>-3.9</td>\n",
       "      <td>746</td>\n",
       "      <td>4.3</td>\n",
       "      <td>1224.0</td>\n",
       "      <td>NaN</td>\n",
       "      <td>NaN</td>\n",
       "      <td>...</td>\n",
       "      <td>7.3</td>\n",
       "      <td>9.1</td>\n",
       "      <td>10.8</td>\n",
       "      <td>14.7</td>\n",
       "      <td>15.4</td>\n",
       "      <td>NaN</td>\n",
       "      <td>2.0</td>\n",
       "      <td>NaN</td>\n",
       "      <td>NaN</td>\n",
       "      <td>NaN</td>\n",
       "    </tr>\n",
       "    <tr>\n",
       "      <th>...</th>\n",
       "      <td>...</td>\n",
       "      <td>...</td>\n",
       "      <td>...</td>\n",
       "      <td>...</td>\n",
       "      <td>...</td>\n",
       "      <td>...</td>\n",
       "      <td>...</td>\n",
       "      <td>...</td>\n",
       "      <td>...</td>\n",
       "      <td>...</td>\n",
       "      <td>...</td>\n",
       "      <td>...</td>\n",
       "      <td>...</td>\n",
       "      <td>...</td>\n",
       "      <td>...</td>\n",
       "      <td>...</td>\n",
       "      <td>...</td>\n",
       "      <td>...</td>\n",
       "      <td>...</td>\n",
       "      <td>...</td>\n",
       "      <td>...</td>\n",
       "    </tr>\n",
       "    <tr>\n",
       "      <th>361</th>\n",
       "      <td>131</td>\n",
       "      <td>청주</td>\n",
       "      <td>2021-12-28</td>\n",
       "      <td>-1.4</td>\n",
       "      <td>-4.5</td>\n",
       "      <td>325</td>\n",
       "      <td>1.7</td>\n",
       "      <td>1453.0</td>\n",
       "      <td>NaN</td>\n",
       "      <td>NaN</td>\n",
       "      <td>...</td>\n",
       "      <td>NaN</td>\n",
       "      <td>NaN</td>\n",
       "      <td>NaN</td>\n",
       "      <td>NaN</td>\n",
       "      <td>NaN</td>\n",
       "      <td>0.4</td>\n",
       "      <td>0.6</td>\n",
       "      <td>NaN</td>\n",
       "      <td>{박무}0010-{박무}{강도0}0300-{박무}{강도1}0600-{박무}{강도2}...</td>\n",
       "      <td>NaN</td>\n",
       "    </tr>\n",
       "    <tr>\n",
       "      <th>362</th>\n",
       "      <td>131</td>\n",
       "      <td>청주</td>\n",
       "      <td>2021-12-29</td>\n",
       "      <td>1.8</td>\n",
       "      <td>-3.0</td>\n",
       "      <td>454</td>\n",
       "      <td>7.0</td>\n",
       "      <td>1448.0</td>\n",
       "      <td>NaN</td>\n",
       "      <td>NaN</td>\n",
       "      <td>...</td>\n",
       "      <td>NaN</td>\n",
       "      <td>NaN</td>\n",
       "      <td>NaN</td>\n",
       "      <td>NaN</td>\n",
       "      <td>NaN</td>\n",
       "      <td>1.0</td>\n",
       "      <td>1.5</td>\n",
       "      <td>0.0</td>\n",
       "      <td>{박무}0230-{박무}{강도1}0300-{박무}{강도1}0600-{박무}{강도1}...</td>\n",
       "      <td>NaN</td>\n",
       "    </tr>\n",
       "    <tr>\n",
       "      <th>363</th>\n",
       "      <td>131</td>\n",
       "      <td>청주</td>\n",
       "      <td>2021-12-30</td>\n",
       "      <td>-1.7</td>\n",
       "      <td>-3.8</td>\n",
       "      <td>2312</td>\n",
       "      <td>1.7</td>\n",
       "      <td>1342.0</td>\n",
       "      <td>NaN</td>\n",
       "      <td>NaN</td>\n",
       "      <td>...</td>\n",
       "      <td>NaN</td>\n",
       "      <td>NaN</td>\n",
       "      <td>NaN</td>\n",
       "      <td>NaN</td>\n",
       "      <td>NaN</td>\n",
       "      <td>1.1</td>\n",
       "      <td>1.5</td>\n",
       "      <td>0.0</td>\n",
       "      <td>{눈}1445-{눈}{강도0}1500-1655. {눈}2002-2050.</td>\n",
       "      <td>NaN</td>\n",
       "    </tr>\n",
       "    <tr>\n",
       "      <th>364</th>\n",
       "      <td>131</td>\n",
       "      <td>청주</td>\n",
       "      <td>2021-12-31</td>\n",
       "      <td>-4.6</td>\n",
       "      <td>-6.2</td>\n",
       "      <td>2340</td>\n",
       "      <td>-0.9</td>\n",
       "      <td>1415.0</td>\n",
       "      <td>NaN</td>\n",
       "      <td>NaN</td>\n",
       "      <td>...</td>\n",
       "      <td>NaN</td>\n",
       "      <td>NaN</td>\n",
       "      <td>NaN</td>\n",
       "      <td>NaN</td>\n",
       "      <td>NaN</td>\n",
       "      <td>1.3</td>\n",
       "      <td>1.8</td>\n",
       "      <td>NaN</td>\n",
       "      <td>NaN</td>\n",
       "      <td>NaN</td>\n",
       "    </tr>\n",
       "    <tr>\n",
       "      <th>365</th>\n",
       "      <td>131</td>\n",
       "      <td>청주</td>\n",
       "      <td>2022-01-01</td>\n",
       "      <td>-4.5</td>\n",
       "      <td>-9.9</td>\n",
       "      <td>703</td>\n",
       "      <td>0.6</td>\n",
       "      <td>1525.0</td>\n",
       "      <td>NaN</td>\n",
       "      <td>NaN</td>\n",
       "      <td>...</td>\n",
       "      <td>NaN</td>\n",
       "      <td>NaN</td>\n",
       "      <td>NaN</td>\n",
       "      <td>NaN</td>\n",
       "      <td>NaN</td>\n",
       "      <td>0.9</td>\n",
       "      <td>1.3</td>\n",
       "      <td>NaN</td>\n",
       "      <td>NaN</td>\n",
       "      <td>NaN</td>\n",
       "    </tr>\n",
       "  </tbody>\n",
       "</table>\n",
       "<p>176586 rows × 62 columns</p>\n",
       "</div>"
      ],
      "text/plain": [
       "     stnId stnNm          tm  avgTa  minTa  minTaHrmt  maxTa  maxTaHrmt  \\\n",
       "0      105    강릉  1980-01-01    3.0   -0.4        714    7.0     1549.0   \n",
       "1      105    강릉  1980-01-02    6.0    3.5        207    8.4     1500.0   \n",
       "2      105    강릉  1980-01-03    7.5    4.1       1810   12.8     1330.0   \n",
       "3      105    강릉  1980-01-04    4.1   -0.8       2356    6.8     1206.0   \n",
       "4      105    강릉  1980-01-05   -0.8   -3.9        746    4.3     1224.0   \n",
       "..     ...   ...         ...    ...    ...        ...    ...        ...   \n",
       "361    131    청주  2021-12-28   -1.4   -4.5        325    1.7     1453.0   \n",
       "362    131    청주  2021-12-29    1.8   -3.0        454    7.0     1448.0   \n",
       "363    131    청주  2021-12-30   -1.7   -3.8       2312    1.7     1342.0   \n",
       "364    131    청주  2021-12-31   -4.6   -6.2       2340   -0.9     1415.0   \n",
       "365    131    청주  2022-01-01   -4.5   -9.9        703    0.6     1525.0   \n",
       "\n",
       "     mi10MaxRn  mi10MaxRnHrmt  ...  avgM05Te  avgM10Te  avgM15Te  avgM30Te  \\\n",
       "0          NaN            NaN  ...       6.1       9.1      11.4      15.0   \n",
       "1          NaN            NaN  ...       6.7       9.0      11.1      14.8   \n",
       "2          NaN            NaN  ...       6.8       9.0      11.0      14.8   \n",
       "3          NaN            NaN  ...       7.0       9.1      11.0      14.7   \n",
       "4          NaN            NaN  ...       7.3       9.1      10.8      14.7   \n",
       "..         ...            ...  ...       ...       ...       ...       ...   \n",
       "361        NaN            NaN  ...       NaN       NaN       NaN       NaN   \n",
       "362        NaN            NaN  ...       NaN       NaN       NaN       NaN   \n",
       "363        NaN            NaN  ...       NaN       NaN       NaN       NaN   \n",
       "364        NaN            NaN  ...       NaN       NaN       NaN       NaN   \n",
       "365        NaN            NaN  ...       NaN       NaN       NaN       NaN   \n",
       "\n",
       "     avgM50Te  sumLrgEv  sumSmlEv  n99Rn  \\\n",
       "0        15.4       NaN       0.9    2.6   \n",
       "1        15.5       NaN       1.5    1.4   \n",
       "2        15.3       NaN       2.2    NaN   \n",
       "3        15.5       NaN       1.8    1.5   \n",
       "4        15.4       NaN       2.0    NaN   \n",
       "..        ...       ...       ...    ...   \n",
       "361       NaN       0.4       0.6    NaN   \n",
       "362       NaN       1.0       1.5    0.0   \n",
       "363       NaN       1.1       1.5    0.0   \n",
       "364       NaN       1.3       1.8    NaN   \n",
       "365       NaN       0.9       1.3    NaN   \n",
       "\n",
       "                                                  iscs  sumFogDur  \n",
       "0                                {비}2218-{비}{강도0}2400-        NaN  \n",
       "1    -{비}-{비}{강도0}0300-{비}{강도0}0600-{비}{강도0}0900-{비...        NaN  \n",
       "2                                                  NaN        NaN  \n",
       "3    {비}1406-{싸락눈}1437-{진눈깨비}1450-{진눈깨비}{강도0}1500-{...        NaN  \n",
       "4                                                  NaN        NaN  \n",
       "..                                                 ...        ...  \n",
       "361  {박무}0010-{박무}{강도0}0300-{박무}{강도1}0600-{박무}{강도2}...        NaN  \n",
       "362  {박무}0230-{박무}{강도1}0300-{박무}{강도1}0600-{박무}{강도1}...        NaN  \n",
       "363           {눈}1445-{눈}{강도0}1500-1655. {눈}2002-2050.        NaN  \n",
       "364                                                NaN        NaN  \n",
       "365                                                NaN        NaN  \n",
       "\n",
       "[176586 rows x 62 columns]"
      ]
     },
     "execution_count": 8,
     "metadata": {},
     "output_type": "execute_result"
    }
   ],
   "source": [
    "df = pd.read_csv('기상청ASOS관측.csv',index_col=0)\n",
    "df"
   ]
  },
  {
   "cell_type": "code",
   "execution_count": 22,
   "metadata": {
    "ExecuteTime": {
     "end_time": "2022-03-04T06:40:09.747457Z",
     "start_time": "2022-03-04T06:40:09.594899Z"
    },
    "scrolled": true
   },
   "outputs": [
    {
     "data": {
      "text/plain": [
       "[<matplotlib.lines.Line2D at 0x2332e305d60>]"
      ]
     },
     "execution_count": 22,
     "metadata": {},
     "output_type": "execute_result"
    },
    {
     "data": {
      "image/png": "[encoded data removed]",
      "text/plain": [
       "<Figure size 1440x216 with 1 Axes>"
      ]
     },
     "metadata": {
      "needs_background": "light"
     },
     "output_type": "display_data"
    }
   ],
   "source": [
    "import matplotlib.pyplot as plt\n",
    "import seaborn as sns\n",
    "plt.figure(figsize=(20,3))\n",
    "df.tm = df.tm.astype('datetime64')\n",
    "plt.plot(df.query('stnId == 131')[['tm','avgTa']].set_index('tm'))"
   ]
  },
  {
   "cell_type": "code",
   "execution_count": 10,
   "metadata": {
    "ExecuteTime": {
     "end_time": "2022-03-04T06:38:50.533742Z",
     "start_time": "2022-03-04T06:38:50.514107Z"
    },
    "scrolled": true
   },
   "outputs": [
    {
     "data": {
      "text/plain": [
       "[(105, '강릉'),\n",
       " (101, '춘천'),\n",
       " (115, '울릉도'),\n",
       " (156, '광주'),\n",
       " (143, '대구'),\n",
       " (133, '대전'),\n",
       " (159, '부산'),\n",
       " (108, '서울'),\n",
       " (102, '백령도'),\n",
       " (146, '전주'),\n",
       " (184, '제주'),\n",
       " (131, '청주')]"
      ]
     },
     "execution_count": 10,
     "metadata": {},
     "output_type": "execute_result"
    }
   ],
   "source": [
    "location\n",
    "# 대구 바꿔야하고, 백령도도 2000년대 이후로만 데이터가 있음"
   ]
  },
  {
   "cell_type": "code",
   "execution_count": null,
   "metadata": {},
   "outputs": [],
   "source": []
  }
 ],
 "metadata": {
  "kernelspec": {
   "display_name": "kdt4",
   "language": "python",
   "name": "kdt4"
  },
  "language_info": {
   "codemirror_mode": {
    "name": "ipython",
    "version": 3
   },
   "file_extension": ".py",
   "mimetype": "text/x-python",
   "name": "python",
   "nbconvert_exporter": "python",
   "pygments_lexer": "ipython3",
   "version": "3.10.2"
  },
  "toc": {
   "base_numbering": 1,
   "nav_menu": {},
   "number_sections": true,
   "sideBar": true,
   "skip_h1_title": false,
   "title_cell": "Table of Contents",
   "title_sidebar": "Contents",
   "toc_cell": false,
   "toc_position": {},
   "toc_section_display": true,
   "toc_window_display": false
  },
  "varInspector": {
   "cols": {
    "lenName": 16,
    "lenType": 16,
    "lenVar": 40
   },
   "kernels_config": {
    "python": {
     "delete_cmd_postfix": "",
     "delete_cmd_prefix": "del ",
     "library": "var_list.py",
     "varRefreshCmd": "print(var_dic_list())"
    },
    "r": {
     "delete_cmd_postfix": ") ",
     "delete_cmd_prefix": "rm(",
     "library": "var_list.r",
     "varRefreshCmd": "cat(var_dic_list()) "
    }
   },
   "position": {
    "height": "144.844px",
    "left": "1651px",
    "right": "20px",
    "top": "103px",
    "width": "350px"
   },
   "types_to_exclude": [
    "module",
    "function",
    "builtin_function_or_method",
    "instance",
    "_Feature"
   ],
   "window_display": true
  }
 },
 "nbformat": 4,
 "nbformat_minor": 5
}
